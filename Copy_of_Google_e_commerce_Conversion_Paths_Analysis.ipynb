{
  "nbformat": 4,
  "nbformat_minor": 0,
  "metadata": {
    "colab": {
      "name": "Copy of Google e-commerce - Conversion Paths Analysis",
      "provenance": [],
      "collapsed_sections": [],
      "include_colab_link": true
    },
    "kernelspec": {
      "name": "python3",
      "display_name": "Python 3"
    }
  },
  "cells": [
    {
      "cell_type": "markdown",
      "metadata": {
        "id": "view-in-github",
        "colab_type": "text"
      },
      "source": [
        "<a href=\"https://colab.research.google.com/github/aadamante/conversion_paths_sql_python/blob/main/Copy_of_Google_e_commerce_Conversion_Paths_Analysis.ipynb\" target=\"_parent\"><img src=\"https://colab.research.google.com/assets/colab-badge.svg\" alt=\"Open In Colab\"/></a>"
      ]
    },
    {
      "cell_type": "code",
      "metadata": {
        "id": "ef8inB_3dtTg"
      },
      "source": [
        " #import authentication library \n",
        "from google.colab import auth \n",
        "auth.authenticate_user()"
      ],
      "execution_count": null,
      "outputs": []
    },
    {
      "cell_type": "code",
      "metadata": {
        "id": "czy6zhcQpH6k",
        "colab": {
          "base_uri": "https://localhost:8080/",
          "height": 399
        },
        "outputId": "331cac72-aa6b-44ec-8303-c373c1b00e90"
      },
      "source": [
        "#uses magic command to run the query and display the result\n",
        "%%bigquery --project practice-250123\n",
        "\n",
        "WITH past_30_days_transactions AS (  #this common table expression catches only the transactions occurred in the past 30 days\n",
        "  SELECT\n",
        "    fullVisitorId,  \n",
        "    VisitID,\n",
        "    (totals.totalTransactionRevenue/1000000) as revenue_transactions,  #converts the transaction revenue back to the original currency value - dataset original values were multiplied by 10^6\n",
        "    DATETIME(TIMESTAMP_SECONDS(visitStartTime)) AS transaction_timestamp, #transforms visit date/time into datetime type - originally it was a string\n",
        "    DATE(DATETIME(TIMESTAMP_SECONDS(visitStartTime))) AS transaction_date  #converts visit date/time to date type - timestamp_seconds function returns timestamp\n",
        "    FROM `bigquery-public-data.google_analytics_sample.ga_sessions_*`\n",
        "   WHERE totals.totalTransactionRevenue IS NOT NULL AND _TABLE_SUFFIX BETWEEN '20170701' AND '20170801') #establishes one-month-window analysis\n",
        "    \n",
        " SELECT *\n",
        " FROM past_30_days_transactions\n",
        " \n"
      ],
      "execution_count": null,
      "outputs": [
        {
          "output_type": "execute_result",
          "data": {
            "text/html": [
              "<div>\n",
              "<style scoped>\n",
              "    .dataframe tbody tr th:only-of-type {\n",
              "        vertical-align: middle;\n",
              "    }\n",
              "\n",
              "    .dataframe tbody tr th {\n",
              "        vertical-align: top;\n",
              "    }\n",
              "\n",
              "    .dataframe thead th {\n",
              "        text-align: right;\n",
              "    }\n",
              "</style>\n",
              "<table border=\"1\" class=\"dataframe\">\n",
              "  <thead>\n",
              "    <tr style=\"text-align: right;\">\n",
              "      <th></th>\n",
              "      <th>fullVisitorId</th>\n",
              "      <th>VisitID</th>\n",
              "      <th>revenue_transactions</th>\n",
              "      <th>transaction_timestamp</th>\n",
              "      <th>transaction_date</th>\n",
              "    </tr>\n",
              "  </thead>\n",
              "  <tbody>\n",
              "    <tr>\n",
              "      <th>0</th>\n",
              "      <td>0794644147217997845</td>\n",
              "      <td>1500063343</td>\n",
              "      <td>78.33</td>\n",
              "      <td>2017-07-14 20:15:43</td>\n",
              "      <td>2017-07-14</td>\n",
              "    </tr>\n",
              "    <tr>\n",
              "      <th>1</th>\n",
              "      <td>9104901150360487546</td>\n",
              "      <td>1500043639</td>\n",
              "      <td>110.99</td>\n",
              "      <td>2017-07-14 14:47:19</td>\n",
              "      <td>2017-07-14</td>\n",
              "    </tr>\n",
              "    <tr>\n",
              "      <th>2</th>\n",
              "      <td>7063315126654210750</td>\n",
              "      <td>1500073970</td>\n",
              "      <td>36.94</td>\n",
              "      <td>2017-07-14 23:12:50</td>\n",
              "      <td>2017-07-14</td>\n",
              "    </tr>\n",
              "    <tr>\n",
              "      <th>3</th>\n",
              "      <td>3968161907727043413</td>\n",
              "      <td>1500066186</td>\n",
              "      <td>86.99</td>\n",
              "      <td>2017-07-14 21:03:06</td>\n",
              "      <td>2017-07-14</td>\n",
              "    </tr>\n",
              "    <tr>\n",
              "      <th>4</th>\n",
              "      <td>4274511861314211339</td>\n",
              "      <td>1500015203</td>\n",
              "      <td>36.00</td>\n",
              "      <td>2017-07-14 07:01:12</td>\n",
              "      <td>2017-07-14</td>\n",
              "    </tr>\n",
              "    <tr>\n",
              "      <th>...</th>\n",
              "      <td>...</td>\n",
              "      <td>...</td>\n",
              "      <td>...</td>\n",
              "      <td>...</td>\n",
              "      <td>...</td>\n",
              "    </tr>\n",
              "    <tr>\n",
              "      <th>1069</th>\n",
              "      <td>1675608109098320028</td>\n",
              "      <td>1501038383</td>\n",
              "      <td>50.99</td>\n",
              "      <td>2017-07-26 03:06:23</td>\n",
              "      <td>2017-07-26</td>\n",
              "    </tr>\n",
              "    <tr>\n",
              "      <th>1070</th>\n",
              "      <td>0743501820485430157</td>\n",
              "      <td>1501034665</td>\n",
              "      <td>60.15</td>\n",
              "      <td>2017-07-26 02:04:25</td>\n",
              "      <td>2017-07-26</td>\n",
              "    </tr>\n",
              "    <tr>\n",
              "      <th>1071</th>\n",
              "      <td>1164110348121511511</td>\n",
              "      <td>1500999677</td>\n",
              "      <td>73.98</td>\n",
              "      <td>2017-07-25 16:21:17</td>\n",
              "      <td>2017-07-25</td>\n",
              "    </tr>\n",
              "    <tr>\n",
              "      <th>1072</th>\n",
              "      <td>7803437096506812413</td>\n",
              "      <td>1501015763</td>\n",
              "      <td>877.15</td>\n",
              "      <td>2017-07-25 20:49:27</td>\n",
              "      <td>2017-07-25</td>\n",
              "    </tr>\n",
              "    <tr>\n",
              "      <th>1073</th>\n",
              "      <td>0082806901961150595</td>\n",
              "      <td>1501008172</td>\n",
              "      <td>173.27</td>\n",
              "      <td>2017-07-25 18:42:52</td>\n",
              "      <td>2017-07-25</td>\n",
              "    </tr>\n",
              "  </tbody>\n",
              "</table>\n",
              "<p>1074 rows × 5 columns</p>\n",
              "</div>"
            ],
            "text/plain": [
              "            fullVisitorId     VisitID  ...  transaction_timestamp transaction_date\n",
              "0     0794644147217997845  1500063343  ...    2017-07-14 20:15:43       2017-07-14\n",
              "1     9104901150360487546  1500043639  ...    2017-07-14 14:47:19       2017-07-14\n",
              "2     7063315126654210750  1500073970  ...    2017-07-14 23:12:50       2017-07-14\n",
              "3     3968161907727043413  1500066186  ...    2017-07-14 21:03:06       2017-07-14\n",
              "4     4274511861314211339  1500015203  ...    2017-07-14 07:01:12       2017-07-14\n",
              "...                   ...         ...  ...                    ...              ...\n",
              "1069  1675608109098320028  1501038383  ...    2017-07-26 03:06:23       2017-07-26\n",
              "1070  0743501820485430157  1501034665  ...    2017-07-26 02:04:25       2017-07-26\n",
              "1071  1164110348121511511  1500999677  ...    2017-07-25 16:21:17       2017-07-25\n",
              "1072  7803437096506812413  1501015763  ...    2017-07-25 20:49:27       2017-07-25\n",
              "1073  0082806901961150595  1501008172  ...    2017-07-25 18:42:52       2017-07-25\n",
              "\n",
              "[1074 rows x 5 columns]"
            ]
          },
          "metadata": {
            "tags": []
          },
          "execution_count": 2
        }
      ]
    }
  ]
}